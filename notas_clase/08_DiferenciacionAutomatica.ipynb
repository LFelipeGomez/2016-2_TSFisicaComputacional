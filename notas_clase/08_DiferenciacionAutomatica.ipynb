{
 "cells": [
  {
   "cell_type": "markdown",
   "metadata": {
    "slideshow": {
     "slide_type": "slide"
    }
   },
   "source": [
    "# Diferenciación automática: Parte 2"
   ]
  },
  {
   "cell_type": "code",
   "execution_count": 1,
   "metadata": {
    "collapsed": false
   },
   "outputs": [
    {
     "data": {
      "text/plain": [
       "- (generic function with 208 methods)"
      ]
     },
     "execution_count": 1,
     "metadata": {},
     "output_type": "execute_result"
    }
   ],
   "source": [
    "\"\"\"Definición de los duales, donde\n",
    "...\n",
    "\"\"\"\n",
    "type Dual{T<:Real}\n",
    "    fun :: T\n",
    "    der :: T\n",
    "end\n",
    "\n",
    "Dual(a,b) = Dual(promote(a,b)...)\n",
    "\n",
    "Dual(a) = Dual(a,0)\n",
    "\n",
    "xdual(x) = Dual(x,1)\n",
    "\n",
    "using Base.Test\n",
    "\n",
    "import Base: +, -, *, /, ^, ==\n",
    "\n",
    "+(a::Dual,b::Dual) = Dual(a.fun + b.fun, a.der + b.der)\n",
    "+(a::Real,b::Dual) = Dual(a) + b\n",
    "+(b::Dual,a::Real) = b + Dual(a)\n",
    "\n",
    "-(a::Dual,b::Dual) = Dual(a.fun - b.fun, a.der - b.der)\n",
    "-(a::Real,b::Dual) = Dual(a) - b\n",
    "-(b::Dual,a::Real) = b - Dual(a)\n",
    "\n",
    "*(a::Dual,b::Dual) = Dual(a.fun*b.fun, a.fun*b.der + b.fun*a.der)\n",
    "*(a::Real,b::Dual) = Dual(a)*b\n",
    "*(b::Dual,a::Real) = a*b\n",
    "\n",
    "/(a::Dual,b::Dual) = Dual(a.fun/b.fun, (a.der - (a.fun/b.fun)*b.der)/b.fun)\n",
    "/(a::Real,b::Dual) = Dual(a)/b\n",
    "/(b::Dual,a::Real) = b/Dual(a)\n",
    "\n",
    "^(a::Dual,b::Integer) = Dual(a.fun^b, b*(a.fun^(b-1))*a.der)\n",
    "^(a::Dual,b::Real) = Dual(a.fun^b, b*(a.fun^(b-1))*a.der)\n",
    "\n",
    "+(a::Dual) = a\n",
    "-(a::Dual) = Dual(-a.fun,-a.der)"
   ]
  },
  {
   "cell_type": "markdown",
   "metadata": {},
   "source": [
    "### NOTA\n",
    "\n",
    "Este notebook se iniciará en la clase y **debe** hacerse en equipo, con los *mismos miembros* que participaron en la \"Tarea4.ipynb\". La resolución completa de los ejercicios debe ser enviada como \"Tarea5.ipynb\"."
   ]
  },
  {
   "cell_type": "markdown",
   "metadata": {
    "slideshow": {
     "slide_type": "slide"
    }
   },
   "source": [
    "## Funciones elementales"
   ]
  },
  {
   "cell_type": "markdown",
   "metadata": {},
   "source": [
    "Lo que se logró en la clase pasada fue, esencialmente, tener una manera de obtener primeras\n",
    "derivadas para cualquier función racional, esto es, cocientes de polinomios en una variable.\n",
    "\n",
    "El siguiente paso es incluir más funciones a fin de ampliar la aplicabilidad de lo hecho la vez pasada, en particular a las funciones elementales: $\\exp$, $\\log$, etc."
   ]
  },
  {
   "cell_type": "markdown",
   "metadata": {
    "slideshow": {
     "slide_type": "slide"
    }
   },
   "source": [
    "La extensión a estas funciones es elemental, y así por ejemplo tenemos:\n",
    "\n",
    "\\begin{eqnarray}\n",
    "\\exp[\\vec{f}(x_0)] &=& \\big( \\exp(f_0),\\, f'_0\\exp(f_0) \\,\\big),\\\\\n",
    "\\log[\\vec{f}(x_0)] &=& \\big( \\log(f_0),\\, \\frac{f'_0}{f_0} \\,\\big),\\\\\n",
    "\\sin[\\vec{f}(x_0)] &=& \\big( \\sin(f_0),\\, f'_0\\cos(f_0) \\,\\big),\\\\\n",
    "\\cos[\\vec{f}(x_0)] &=& \\big( \\cos(f_0),\\, -f'_0\\sin(f_0) \\,\\big),\\\\\n",
    "\\tan[\\vec{f}(x_0)] &=& \\big( \\tan(f_0),\\, f'_0\\sec^2(f_0) \\,\\big),\\\\\n",
    "\\sinh[\\vec{f}(x_0)] &=& \\big( \\sinh(f_0),\\, f'_0\\cosh(f_0) \\,\\big),\\\\\n",
    "...\\\\\n",
    "\\end{eqnarray}\n",
    "\n",
    "Vale la pena enfatizar que la regla de la cadena se utiliza en la segunda componente del \n",
    "lado derecho de estas ecuaciones."
   ]
  },
  {
   "cell_type": "markdown",
   "metadata": {
    "collapsed": true,
    "slideshow": {
     "slide_type": "slide"
    }
   },
   "source": [
    "## Ejercicio\n",
    "\n",
    "Implementen las funciones relacionadas con potencias, exponenciales, logarítmos, las funciones trigonométricas y las hiperbólicas que tiene Julia definidas (ver la [documentación](http://julia.readthedocs.org/en/release-0.4/manual/mathematical-operations/#trigonometric-and-hyperbolic-functions)). La implementación debe incluir los tests adecuados. La manera en que implementen las cosas debe estar clara en el notebook \"Tarea5.ipynb\", pero toda la funcionalidad debe ser incluida en \"AutomDiff.jl\" al igual que en \"runtests.jl\"\n",
    "\n",
    "**Hint:** Aprovechen las capacidades de Julia en metaprogramming."
   ]
  },
  {
   "cell_type": "code",
   "execution_count": 2,
   "metadata": {
    "collapsed": true
   },
   "outputs": [],
   "source": [
    "import Base: log, exp, sin, cos, tan, sec, cot, csc, sinh, cosh, tanh, asin, acos, atan"
   ]
  },
  {
   "cell_type": "code",
   "execution_count": 8,
   "metadata": {
    "collapsed": false
   },
   "outputs": [
    {
     "name": "stdout",
     "output_type": "stream",
     "text": [
      "exp\n",
      "begin  # In[8], line 6:\n",
      "    function exp(a::Dual) # In[8], line 7:\n",
      "        fun = exp(a.fun) # In[8], line 8:\n",
      "        der = a.der * exp(a.fun) # In[8], line 9:\n",
      "        return Dual(fun,der)\n",
      "    end\n",
      "end\n",
      "log\n",
      "begin  # In[8], line 6:\n",
      "    function log(a::Dual) # In[8], line 7:\n",
      "        fun = log(a.fun) # In[8], line 8:\n",
      "        der = a.der * inv(a.fun) # In[8], line 9:\n",
      "        return Dual(fun,der)\n",
      "    end\n",
      "end\n",
      "sin\n",
      "begin  # In[8], line 6:\n",
      "    function sin(a::Dual) # In[8], line 7:\n",
      "        fun = sin(a.fun) # In[8], line 8:\n",
      "        der = a.der * cos(a.fun) # In[8], line 9:\n",
      "        return Dual(fun,der)\n",
      "    end\n",
      "end\n",
      "cos\n",
      "begin  # In[8], line 6:\n",
      "    function cos(a::Dual) # In[8], line 7:\n",
      "        fun = cos(a.fun) # In[8], line 8:\n",
      "        der = a.der * ((anonymous function))(a.fun) # In[8], line 9:\n",
      "        return Dual(fun,der)\n",
      "    end\n",
      "end\n",
      "tan\n",
      "begin  # In[8], line 6:\n",
      "    function tan(a::Dual) # In[8], line 7:\n",
      "        fun = tan(a.fun) # In[8], line 8:\n",
      "        der = a.der * ((anonymous function))(a.fun) # In[8], line 9:\n",
      "        return Dual(fun,der)\n",
      "    end\n",
      "end\n",
      "sec\n",
      "begin  # In[8], line 6:\n",
      "    function sec(a::Dual) # In[8], line 7:\n",
      "        fun = sec(a.fun) # In[8], line 8:\n",
      "        der = a.der * ((anonymous function))(a.fun) # In[8], line 9:\n",
      "        return Dual(fun,der)\n",
      "    end\n",
      "end\n",
      "cot\n",
      "begin  # In[8], line 6:\n",
      "    function cot(a::Dual) # In[8], line 7:\n",
      "        fun = cot(a.fun) # In[8], line 8:\n",
      "        der = a.der * ((anonymous function))(a.fun) # In[8], line 9:\n",
      "        return Dual(fun,der)\n",
      "    end\n",
      "end\n",
      "csc\n",
      "begin  # In[8], line 6:\n",
      "    function csc(a::Dual) # In[8], line 7:\n",
      "        fun = csc(a.fun) # In[8], line 8:\n",
      "        der = a.der * ((anonymous function))(a.fun) # In[8], line 9:\n",
      "        return Dual(fun,der)\n",
      "    end\n",
      "end\n",
      "sinh\n",
      "begin  # In[8], line 6:\n",
      "    function sinh(a::Dual) # In[8], line 7:\n",
      "        fun = sinh(a.fun) # In[8], line 8:\n",
      "        der = a.der * cosh(a.fun) # In[8], line 9:\n",
      "        return Dual(fun,der)\n",
      "    end\n",
      "end\n",
      "cosh\n",
      "begin  # In[8], line 6:\n",
      "    function cosh(a::Dual) # In[8], line 7:\n",
      "        fun = cosh(a.fun) # In[8], line 8:\n",
      "        der = a.der * sinh(a.fun) # In[8], line 9:\n",
      "        return Dual(fun,der)\n",
      "    end\n",
      "end\n",
      "tanh\n",
      "begin  # In[8], line 6:\n",
      "    function tanh(a::Dual) # In[8], line 7:\n",
      "        fun = tanh(a.fun) # In[8], line 8:\n",
      "        der = a.der * ((anonymous function))(a.fun) # In[8], line 9:\n",
      "        return Dual(fun,der)\n",
      "    end\n",
      "end\n",
      "asin\n",
      "begin  # In[8], line 6:\n",
      "    function asin(a::Dual) # In[8], line 7:\n",
      "        fun = asin(a.fun) # In[8], line 8:\n",
      "        der = a.der * ((anonymous function))(a.fun) # In[8], line 9:\n",
      "        return Dual(fun,der)\n",
      "    end\n",
      "end\n",
      "acos\n",
      "begin  # In[8], line 6:\n",
      "    function acos(a::Dual) # In[8], line 7:\n",
      "        fun = acos(a.fun) # In[8], line 8:\n",
      "        der = a.der * ((anonymous function))(a.fun) # In[8], line 9:\n",
      "        return Dual(fun,der)\n",
      "    end\n",
      "end\n",
      "atan\n",
      "begin  # In[8], line 6:\n",
      "    function atan(a::Dual) # In[8], line 7:\n",
      "        fun = atan(a.fun) # In[8], line 8:\n",
      "        der = a.der * ((anonymous function))(a.fun) # In[8], line 9:\n",
      "        return Dual(fun,der)\n",
      "    end\n",
      "end\n"
     ]
    }
   ],
   "source": [
    "for (f,d) = [(:exp,:exp),(:log,:inv),(:sin,:cos),(:cos,x -> -sin(x)),(:tan,x -> sec(x)^2),(:sec,x -> sec(x)*tan(x)),\n",
    "             (:cot, x -> -csc(x)^2),(:csc,x -> -csc(x)*cot(x)),(:sinh,:cosh),(:cosh,:sinh),(:tanh,x -> sech(x)^2),\n",
    "             (:asin,x -> inv(sqrt(1-x^2))),(:acos,X -> -inv(sqrt(1-x^2))),(:atan,x -> inv(1+x^2))]\n",
    "    \n",
    "    println(f)\n",
    "    ex = quote\n",
    "        function ($f)(a::Dual)\n",
    "            fun = ($f)(a.fun)\n",
    "            der = a.der*($d)(a.fun)\n",
    "            return Dual(fun, der)\n",
    "        end\n",
    "    end\n",
    "    println(ex)\n",
    "    @eval $ex\n",
    "end"
   ]
  },
  {
   "cell_type": "code",
   "execution_count": 14,
   "metadata": {
    "collapsed": false
   },
   "outputs": [
    {
     "data": {
      "text/plain": [
       "Dual{Float64}(2.718281828459045,2.718281828459045)"
      ]
     },
     "execution_count": 14,
     "metadata": {},
     "output_type": "execute_result"
    }
   ],
   "source": [
    "exp(xdual(1))"
   ]
  },
  {
   "cell_type": "code",
   "execution_count": 15,
   "metadata": {
    "collapsed": false
   },
   "outputs": [
    {
     "data": {
      "text/plain": [
       "Dual{Float64}(0.0,1.0)"
      ]
     },
     "execution_count": 15,
     "metadata": {},
     "output_type": "execute_result"
    }
   ],
   "source": [
    "log(xdual(1))"
   ]
  },
  {
   "cell_type": "code",
   "execution_count": 17,
   "metadata": {
    "collapsed": false
   },
   "outputs": [
    {
     "data": {
      "text/plain": [
       "Dual{Float64}(1.2246467991473532e-16,-1.0)"
      ]
     },
     "execution_count": 17,
     "metadata": {},
     "output_type": "execute_result"
    }
   ],
   "source": [
    "sin(xdual(π))"
   ]
  },
  {
   "cell_type": "code",
   "execution_count": 19,
   "metadata": {
    "collapsed": false
   },
   "outputs": [
    {
     "data": {
      "text/plain": [
       "Dual{Float64}(-1.0,-1.2246467991473532e-16)"
      ]
     },
     "execution_count": 19,
     "metadata": {},
     "output_type": "execute_result"
    }
   ],
   "source": [
    "cos(xdual(π))"
   ]
  },
  {
   "cell_type": "markdown",
   "metadata": {
    "slideshow": {
     "slide_type": "slide"
    }
   },
   "source": [
    "## Ejercicio\n",
    "\n",
    "Prueben su implementación calculando la derivada de $f(x) = \\sin\\Big(x^3 - \\frac{2}{x^6}\\Big)$\n",
    "en $x_0 = 2$.\n",
    "\n",
    "Dibujen, para $x_0 \\in [1,5]$ la función $f'(x)$."
   ]
  },
  {
   "cell_type": "code",
   "execution_count": 124,
   "metadata": {
    "collapsed": false
   },
   "outputs": [],
   "source": [
    "using PyPlot"
   ]
  },
  {
   "cell_type": "code",
   "execution_count": 23,
   "metadata": {
    "collapsed": false
   },
   "outputs": [
    {
     "data": {
      "text/plain": [
       "f (generic function with 1 method)"
      ]
     },
     "execution_count": 23,
     "metadata": {},
     "output_type": "execute_result"
    }
   ],
   "source": [
    "f(x) = sin(x^3 - (2/(x^6)))"
   ]
  },
  {
   "cell_type": "code",
   "execution_count": 42,
   "metadata": {
    "collapsed": false
   },
   "outputs": [
    {
     "data": {
      "text/plain": [
       "Dual{Float64}(0.9934213368955197,-1.384934905523464)"
      ]
     },
     "execution_count": 42,
     "metadata": {},
     "output_type": "execute_result"
    }
   ],
   "source": [
    "x₀ = 2\n",
    "\n",
    "f(xdual(x₀))"
   ]
  },
  {
   "cell_type": "markdown",
   "metadata": {},
   "source": [
    "$f'(x) = \\Big(3x^2 + \\frac{12}{x^7}\\Big)cos\\Big(x^3 - \\frac{2}{x^6}\\Big)$"
   ]
  },
  {
   "cell_type": "code",
   "execution_count": 51,
   "metadata": {
    "collapsed": false
   },
   "outputs": [
    {
     "data": {
      "text/plain": [
       "(0.9934213368955197,-1.384934905523464)"
      ]
     },
     "execution_count": 51,
     "metadata": {},
     "output_type": "execute_result"
    }
   ],
   "source": [
    "f_der(x) = (3*x^2 + 12/(x^7))*cos(x^3 - (2/(x^6)))\n",
    "\n",
    "(f(x₀),f_der(x₀))"
   ]
  },
  {
   "cell_type": "code",
   "execution_count": 134,
   "metadata": {
    "collapsed": false
   },
   "outputs": [
    {
     "data": {
      "image/png": "[encoded data removed]",
      "text/plain": [
       "PyPlot.Figure(PyObject <matplotlib.figure.Figure object at 0x3196b08d0>)"
      ]
     },
     "metadata": {},
     "output_type": "display_data"
    }
   ],
   "source": [
    "xs = (1:0.001:7)\n",
    "\n",
    "ys = [f(xdual(x)).der for x in xs]\n",
    "\n",
    "plot(xs,ys)\n",
    "ylabel(L\"f'(x)\")\n",
    "xlabel(L\"x\");"
   ]
  },
  {
   "cell_type": "markdown",
   "metadata": {},
   "source": [
    "# Ejercicio\n",
    "\n",
    "Implementen el método de Newton para una función arbitraria $f(x)$ en una variable (la función `newton1D` debe tener un argumento que es una función) a fin de encontrar un cero de la función, i.e., $f(x^*)=0$. El método de Newton requiere la derivada evaluada en diversos puntos, cosa que obtendrán usando el módulo de derivación automática.\n",
    "\n",
    "- Obtengan, usando su función del método de Newton, las raices del polinomio de Wilkinson $W_{6}(x)$, usando como iterados iniciales $x_0=2.2$ y $x_0=2.45$.\n",
    "    \n",
    "- Hagan lo mismo que en el inciso anterior para $g(x) = x \\sin(2x)$, con $x_0=0.7$."
   ]
  },
  {
   "cell_type": "markdown",
   "metadata": {},
   "source": [
    "$$x_{n+1} = x_n - \\frac{f(x_n)}{f'(x_n)}$$"
   ]
  },
  {
   "cell_type": "code",
   "execution_count": 65,
   "metadata": {
    "collapsed": false
   },
   "outputs": [
    {
     "data": {
      "text/plain": [
       "wilkinson (generic function with 1 method)"
      ]
     },
     "execution_count": 65,
     "metadata": {},
     "output_type": "execute_result"
    }
   ],
   "source": [
    "nombre(n::Int) = symbol( string(\"W_\", n) )\n",
    "\n",
    "function wilkinson(n::Int)\n",
    "    # Checo que `n` sea >= 1\n",
    "    @assert n >= 1\n",
    "    \n",
    "    ex = :(x-1)\n",
    "    for i = 2:n\n",
    "        ex = :( ($ex) * ( x-$i) )\n",
    "    end\n",
    "    ex_ret = :( $(nombre(n))(x) = $ex )\n",
    "    ex_ret\n",
    "end"
   ]
  },
  {
   "cell_type": "code",
   "execution_count": 119,
   "metadata": {
    "collapsed": false
   },
   "outputs": [
    {
     "data": {
      "text/plain": [
       "newton1D (generic function with 2 methods)"
      ]
     },
     "execution_count": 119,
     "metadata": {},
     "output_type": "execute_result"
    }
   ],
   "source": [
    "function newton1D(f,x₀)\n",
    "    i = 1\n",
    "    while abs(f(x₀)) != 0   \n",
    "        F = f(xdual(x₀))\n",
    "        x_nueva = x₀ - (F.fun/F.der)\n",
    "        x₀ = x_nueva\n",
    "        i += 1 \n",
    "        if i == 50\n",
    "            println(\"f($x₀) = $(f(x₀))\")\n",
    "            return x₀  \n",
    "        end\n",
    "    end\n",
    "    println(\"f($x₀) = $(f(x₀))\")\n",
    "    return x₀\n",
    "end   "
   ]
  },
  {
   "cell_type": "code",
   "execution_count": 120,
   "metadata": {
    "collapsed": false
   },
   "outputs": [
    {
     "name": "stdout",
     "output_type": "stream",
     "text": [
      "f(1.0) = 0.0\n"
     ]
    },
    {
     "data": {
      "text/plain": [
       "1.0"
      ]
     },
     "execution_count": 120,
     "metadata": {},
     "output_type": "execute_result"
    }
   ],
   "source": [
    "x₀ = 1.5\n",
    "newton1D(x -> x^2-1,x₀)\n",
    "plot((-3:0.01:3),)"
   ]
  },
  {
   "cell_type": "code",
   "execution_count": 121,
   "metadata": {
    "collapsed": false
   },
   "outputs": [
    {
     "data": {
      "text/plain": [
       "W_6 (generic function with 1 method)"
      ]
     },
     "execution_count": 121,
     "metadata": {},
     "output_type": "execute_result"
    }
   ],
   "source": [
    "eval(wilkinson(6))"
   ]
  },
  {
   "cell_type": "code",
   "execution_count": 122,
   "metadata": {
    "collapsed": false
   },
   "outputs": [
    {
     "name": "stdout",
     "output_type": "stream",
     "text": [
      "f(2.0) = 0.0\n"
     ]
    },
    {
     "data": {
      "text/plain": [
       "2.0"
      ]
     },
     "execution_count": 122,
     "metadata": {},
     "output_type": "execute_result"
    }
   ],
   "source": [
    "x₀ = 2.2\n",
    "\n",
    "newton1D(W_6,x₀)"
   ]
  },
  {
   "cell_type": "code",
   "execution_count": 123,
   "metadata": {
    "collapsed": false
   },
   "outputs": [
    {
     "name": "stdout",
     "output_type": "stream",
     "text": [
      "f(6.0) = 0.0\n"
     ]
    },
    {
     "data": {
      "text/plain": [
       "6.0"
      ]
     },
     "execution_count": 123,
     "metadata": {},
     "output_type": "execute_result"
    }
   ],
   "source": [
    "x₀ = 2.45\n",
    "\n",
    "newton1D(W_6,x₀)"
   ]
  },
  {
   "cell_type": "code",
   "execution_count": 91,
   "metadata": {
    "collapsed": false
   },
   "outputs": [
    {
     "data": {
      "text/plain": [
       "g (generic function with 1 method)"
      ]
     },
     "execution_count": 91,
     "metadata": {},
     "output_type": "execute_result"
    }
   ],
   "source": [
    "g(x) = x*sin(2*x)"
   ]
  },
  {
   "cell_type": "code",
   "execution_count": 118,
   "metadata": {
    "collapsed": false
   },
   "outputs": [
    {
     "name": "stdout",
     "output_type": "stream",
     "text": [
      "f(4.22508958034914e-31) = 3.570276392394975e-61\n"
     ]
    },
    {
     "data": {
      "text/plain": [
       "4.22508958034914e-31"
      ]
     },
     "execution_count": 118,
     "metadata": {},
     "output_type": "execute_result"
    }
   ],
   "source": [
    "x₀ = 0.7\n",
    "\n",
    "newton1D(x -> g(x),x₀)"
   ]
  },
  {
   "cell_type": "markdown",
   "metadata": {},
   "source": [
    "# Pregunta\n",
    "\n",
    "¿Qué hacer si se requieren derivadas de orden superior, es decir, la segunda, tercera, etc, derivada? Argumenten.\n",
    "\n",
    "**NOTA:** Esta pregunta debe ser contestada pero **no** será considerada para aceptar la tarea; la idea es empezar a pensar en esto."
   ]
  },
  {
   "cell_type": "code",
   "execution_count": null,
   "metadata": {
    "collapsed": true
   },
   "outputs": [],
   "source": []
  }
 ],
 "metadata": {
  "kernelspec": {
   "display_name": "Julia 0.4.3",
   "language": "julia",
   "name": "julia-0.4"
  },
  "language_info": {
   "file_extension": ".jl",
   "mimetype": "application/julia",
   "name": "julia",
   "version": "0.4.3"
  }
 },
 "nbformat": 4,
 "nbformat_minor": 0
}
